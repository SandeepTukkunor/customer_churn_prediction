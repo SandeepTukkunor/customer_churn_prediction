{
  "nbformat": 4,
  "nbformat_minor": 0,
  "metadata": {
    "colab": {
      "name": "credit_risk_prediction5.ipynb",
      "provenance": [],
      "collapsed_sections": []
    },
    "kernelspec": {
      "name": "python3",
      "display_name": "Python 3"
    },
    "language_info": {
      "name": "python"
    }
  },
  "cells": [
    {
      "cell_type": "markdown",
      "metadata": {
        "id": "WNtLUp-RSYtC"
      },
      "source": [
        "## This is notebook of my second attempt, i have not done any data analysis in this, just final approach "
      ]
    },
    {
      "cell_type": "code",
      "metadata": {
        "id": "JjdxQMVgJhkB"
      },
      "source": [
        "import numpy as np\n",
        "import pandas as pd\n",
        "import matplotlib.pyplot as plt\n",
        "import seaborn as sns\n",
        "\n",
        "from sklearn.metrics import confusion_matrix, classification_report"
      ],
      "execution_count": 1,
      "outputs": []
    },
    {
      "cell_type": "code",
      "metadata": {
        "id": "Nx_E4bwhJpHf"
      },
      "source": [
        "train_data = pd.read_csv(\"/content/drive/MyDrive/univai/Training Data.csv\")\n",
        "test_data = pd.read_csv(\"/content/drive/MyDrive/univai/Test Data.csv\")\n"
      ],
      "execution_count": 2,
      "outputs": []
    },
    {
      "cell_type": "markdown",
      "metadata": {
        "id": "uQBw62Lrad9V"
      },
      "source": [
        ""
      ]
    },
    {
      "cell_type": "code",
      "metadata": {
        "id": "fjc66wTvCoZz"
      },
      "source": [
        ""
      ],
      "execution_count": 2,
      "outputs": []
    },
    {
      "cell_type": "code",
      "metadata": {
        "id": "7Mdy1wkEBn9U"
      },
      "source": [
        "train_data = pd.get_dummies(data=train_data, columns=[\"married\", \t\"house_ownership\" ,\t\"car_ownership\" ,\t\"profession\" ,\t\"city\" ,\t\"state\"])\n",
        "test_data = pd.get_dummies(data=test_data, columns=[\"married\", \t\"house_ownership\" ,\t\"car_ownership\" ,\t\"profession\" ,\t\"city\" ,\t\"state\"])\n"
      ],
      "execution_count": 3,
      "outputs": []
    },
    {
      "cell_type": "code",
      "metadata": {
        "id": "mpy290yiBt3b"
      },
      "source": [
        "# Using Min max scaler for test data\n",
        "cols_to_scale = [\"income\" ,\t\"age\" \t,\"experience\",\"current_job_years\", \t\"current_house_years\" ]\n",
        "\n",
        "from sklearn.preprocessing import MinMaxScaler\n",
        "scaler = MinMaxScaler()\n",
        "train_data[cols_to_scale] = scaler.fit_transform(train_data[cols_to_scale])\n",
        "train_data[cols_to_scale] = scaler.fit_transform(train_data[cols_to_scale])\n"
      ],
      "execution_count": 4,
      "outputs": []
    },
    {
      "cell_type": "code",
      "metadata": {
        "id": "ARptXukcBxVx"
      },
      "source": [
        "X_train= train_data.drop(['risk_flag', \"Id\" ],axis='columns')\n",
        "y_train = testLabels = train_data.risk_flag\n",
        "\n",
        "X_test = test_data.drop([ \"id\" ],axis='columns')\n"
      ],
      "execution_count": 37,
      "outputs": []
    },
    {
      "cell_type": "code",
      "metadata": {
        "id": "KMFwOH9rCjQK"
      },
      "source": [
        ""
      ],
      "execution_count": 37,
      "outputs": []
    },
    {
      "cell_type": "markdown",
      "metadata": {
        "id": "CsGHvZz3Cnpx"
      },
      "source": [
        ""
      ]
    },
    {
      "cell_type": "code",
      "metadata": {
        "id": "0ahYgjCoCpXX"
      },
      "source": [
        ""
      ],
      "execution_count": 37,
      "outputs": []
    },
    {
      "cell_type": "code",
      "metadata": {
        "id": "P49GDOhvKqEH"
      },
      "source": [
        "import tensorflow as tf\n",
        "from tensorflow import keras\n",
        "from sklearn.metrics import confusion_matrix , classification_report"
      ],
      "execution_count": 38,
      "outputs": []
    },
    {
      "cell_type": "code",
      "metadata": {
        "id": "Ki6j1Ps6E59O"
      },
      "source": [
        "def ANN(X_train, y_train, X_test, loss, weights):\n",
        "    model = keras.Sequential([\n",
        "        keras.layers.Dense(26, input_dim=409, activation='relu'),\n",
        "        keras.layers.Dense(15, activation='relu'),\n",
        "        keras.layers.Dense(1, activation='sigmoid')\n",
        "    ])\n",
        "\n",
        "    model.compile(optimizer='adam', loss=loss, metrics=['accuracy'])\n",
        "    \n",
        "    if weights == -1:\n",
        "        model.fit(X_train, y_train, epochs=50)\n",
        "    else:\n",
        "        model.fit(X_train, y_train, epochs=50, class_weight = weights)\n",
        "    \n",
        "    \n",
        "    \n",
        "    y_preds = model.predict(X_test)\n",
        "    \n",
        "    \n",
        "    \n",
        "    \n",
        "    return y_preds"
      ],
      "execution_count": 55,
      "outputs": []
    },
    {
      "cell_type": "code",
      "metadata": {
        "colab": {
          "base_uri": "https://localhost:8080/",
          "height": 372
        },
        "id": "GqpaHqVeKusG",
        "outputId": "55cce782-0112-430d-a850-ca34740066b0"
      },
      "source": [
        "\n",
        "y_preds = ANN(X_train, y_train, X_test, loss = 'binary_crossentropy', weights = -1)"
      ],
      "execution_count": 47,
      "outputs": [
        {
          "output_type": "stream",
          "text": [
            "Epoch 1/100\n",
            "2510/7875 [========>.....................] - ETA: 7s - loss: 0.3898 - accuracy: 0.8670"
          ],
          "name": "stdout"
        },
        {
          "output_type": "error",
          "ename": "KeyboardInterrupt",
          "evalue": "ignored",
          "traceback": [
            "\u001b[0;31m---------------------------------------------------------------------------\u001b[0m",
            "\u001b[0;31mKeyboardInterrupt\u001b[0m                         Traceback (most recent call last)",
            "\u001b[0;32m<ipython-input-47-b5512a91cb63>\u001b[0m in \u001b[0;36m<module>\u001b[0;34m()\u001b[0m\n\u001b[1;32m      1\u001b[0m \u001b[0;34m\u001b[0m\u001b[0m\n\u001b[0;32m----> 2\u001b[0;31m \u001b[0my_preds\u001b[0m \u001b[0;34m=\u001b[0m \u001b[0mANN\u001b[0m\u001b[0;34m(\u001b[0m\u001b[0mX_train\u001b[0m\u001b[0;34m,\u001b[0m \u001b[0my_train\u001b[0m\u001b[0;34m,\u001b[0m \u001b[0mX_test\u001b[0m\u001b[0;34m,\u001b[0m \u001b[0mloss\u001b[0m \u001b[0;34m=\u001b[0m \u001b[0;34m'binary_crossentropy'\u001b[0m\u001b[0;34m,\u001b[0m \u001b[0mweights\u001b[0m \u001b[0;34m=\u001b[0m \u001b[0;34m-\u001b[0m\u001b[0;36m1\u001b[0m\u001b[0;34m)\u001b[0m\u001b[0;34m\u001b[0m\u001b[0;34m\u001b[0m\u001b[0m\n\u001b[0m",
            "\u001b[0;32m<ipython-input-45-0e01074ef26f>\u001b[0m in \u001b[0;36mANN\u001b[0;34m(X_train, y_train, X_test, loss, weights)\u001b[0m\n\u001b[1;32m      9\u001b[0m \u001b[0;34m\u001b[0m\u001b[0m\n\u001b[1;32m     10\u001b[0m     \u001b[0;32mif\u001b[0m \u001b[0mweights\u001b[0m \u001b[0;34m==\u001b[0m \u001b[0;34m-\u001b[0m\u001b[0;36m1\u001b[0m\u001b[0;34m:\u001b[0m\u001b[0;34m\u001b[0m\u001b[0;34m\u001b[0m\u001b[0m\n\u001b[0;32m---> 11\u001b[0;31m         \u001b[0mmodel\u001b[0m\u001b[0;34m.\u001b[0m\u001b[0mfit\u001b[0m\u001b[0;34m(\u001b[0m\u001b[0mX_train\u001b[0m\u001b[0;34m,\u001b[0m \u001b[0my_train\u001b[0m\u001b[0;34m,\u001b[0m \u001b[0mepochs\u001b[0m\u001b[0;34m=\u001b[0m\u001b[0;36m100\u001b[0m\u001b[0;34m)\u001b[0m\u001b[0;34m\u001b[0m\u001b[0;34m\u001b[0m\u001b[0m\n\u001b[0m\u001b[1;32m     12\u001b[0m     \u001b[0;32melse\u001b[0m\u001b[0;34m:\u001b[0m\u001b[0;34m\u001b[0m\u001b[0;34m\u001b[0m\u001b[0m\n\u001b[1;32m     13\u001b[0m         \u001b[0mmodel\u001b[0m\u001b[0;34m.\u001b[0m\u001b[0mfit\u001b[0m\u001b[0;34m(\u001b[0m\u001b[0mX_train\u001b[0m\u001b[0;34m,\u001b[0m \u001b[0my_train\u001b[0m\u001b[0;34m,\u001b[0m \u001b[0mepochs\u001b[0m\u001b[0;34m=\u001b[0m\u001b[0;36m100\u001b[0m\u001b[0;34m,\u001b[0m \u001b[0mclass_weight\u001b[0m \u001b[0;34m=\u001b[0m \u001b[0mweights\u001b[0m\u001b[0;34m)\u001b[0m\u001b[0;34m\u001b[0m\u001b[0;34m\u001b[0m\u001b[0m\n",
            "\u001b[0;32m/usr/local/lib/python3.7/dist-packages/tensorflow/python/keras/engine/training.py\u001b[0m in \u001b[0;36mfit\u001b[0;34m(self, x, y, batch_size, epochs, verbose, callbacks, validation_split, validation_data, shuffle, class_weight, sample_weight, initial_epoch, steps_per_epoch, validation_steps, validation_batch_size, validation_freq, max_queue_size, workers, use_multiprocessing)\u001b[0m\n\u001b[1;32m   1098\u001b[0m                 _r=1):\n\u001b[1;32m   1099\u001b[0m               \u001b[0mcallbacks\u001b[0m\u001b[0;34m.\u001b[0m\u001b[0mon_train_batch_begin\u001b[0m\u001b[0;34m(\u001b[0m\u001b[0mstep\u001b[0m\u001b[0;34m)\u001b[0m\u001b[0;34m\u001b[0m\u001b[0;34m\u001b[0m\u001b[0m\n\u001b[0;32m-> 1100\u001b[0;31m               \u001b[0mtmp_logs\u001b[0m \u001b[0;34m=\u001b[0m \u001b[0mself\u001b[0m\u001b[0;34m.\u001b[0m\u001b[0mtrain_function\u001b[0m\u001b[0;34m(\u001b[0m\u001b[0miterator\u001b[0m\u001b[0;34m)\u001b[0m\u001b[0;34m\u001b[0m\u001b[0;34m\u001b[0m\u001b[0m\n\u001b[0m\u001b[1;32m   1101\u001b[0m               \u001b[0;32mif\u001b[0m \u001b[0mdata_handler\u001b[0m\u001b[0;34m.\u001b[0m\u001b[0mshould_sync\u001b[0m\u001b[0;34m:\u001b[0m\u001b[0;34m\u001b[0m\u001b[0;34m\u001b[0m\u001b[0m\n\u001b[1;32m   1102\u001b[0m                 \u001b[0mcontext\u001b[0m\u001b[0;34m.\u001b[0m\u001b[0masync_wait\u001b[0m\u001b[0;34m(\u001b[0m\u001b[0;34m)\u001b[0m\u001b[0;34m\u001b[0m\u001b[0;34m\u001b[0m\u001b[0m\n",
            "\u001b[0;32m/usr/local/lib/python3.7/dist-packages/tensorflow/python/eager/def_function.py\u001b[0m in \u001b[0;36m__call__\u001b[0;34m(self, *args, **kwds)\u001b[0m\n\u001b[1;32m    826\u001b[0m     \u001b[0mtracing_count\u001b[0m \u001b[0;34m=\u001b[0m \u001b[0mself\u001b[0m\u001b[0;34m.\u001b[0m\u001b[0mexperimental_get_tracing_count\u001b[0m\u001b[0;34m(\u001b[0m\u001b[0;34m)\u001b[0m\u001b[0;34m\u001b[0m\u001b[0;34m\u001b[0m\u001b[0m\n\u001b[1;32m    827\u001b[0m     \u001b[0;32mwith\u001b[0m \u001b[0mtrace\u001b[0m\u001b[0;34m.\u001b[0m\u001b[0mTrace\u001b[0m\u001b[0;34m(\u001b[0m\u001b[0mself\u001b[0m\u001b[0;34m.\u001b[0m\u001b[0m_name\u001b[0m\u001b[0;34m)\u001b[0m \u001b[0;32mas\u001b[0m \u001b[0mtm\u001b[0m\u001b[0;34m:\u001b[0m\u001b[0;34m\u001b[0m\u001b[0;34m\u001b[0m\u001b[0m\n\u001b[0;32m--> 828\u001b[0;31m       \u001b[0mresult\u001b[0m \u001b[0;34m=\u001b[0m \u001b[0mself\u001b[0m\u001b[0;34m.\u001b[0m\u001b[0m_call\u001b[0m\u001b[0;34m(\u001b[0m\u001b[0;34m*\u001b[0m\u001b[0margs\u001b[0m\u001b[0;34m,\u001b[0m \u001b[0;34m**\u001b[0m\u001b[0mkwds\u001b[0m\u001b[0;34m)\u001b[0m\u001b[0;34m\u001b[0m\u001b[0;34m\u001b[0m\u001b[0m\n\u001b[0m\u001b[1;32m    829\u001b[0m       \u001b[0mcompiler\u001b[0m \u001b[0;34m=\u001b[0m \u001b[0;34m\"xla\"\u001b[0m \u001b[0;32mif\u001b[0m \u001b[0mself\u001b[0m\u001b[0;34m.\u001b[0m\u001b[0m_experimental_compile\u001b[0m \u001b[0;32melse\u001b[0m \u001b[0;34m\"nonXla\"\u001b[0m\u001b[0;34m\u001b[0m\u001b[0;34m\u001b[0m\u001b[0m\n\u001b[1;32m    830\u001b[0m       \u001b[0mnew_tracing_count\u001b[0m \u001b[0;34m=\u001b[0m \u001b[0mself\u001b[0m\u001b[0;34m.\u001b[0m\u001b[0mexperimental_get_tracing_count\u001b[0m\u001b[0;34m(\u001b[0m\u001b[0;34m)\u001b[0m\u001b[0;34m\u001b[0m\u001b[0;34m\u001b[0m\u001b[0m\n",
            "\u001b[0;32m/usr/local/lib/python3.7/dist-packages/tensorflow/python/eager/def_function.py\u001b[0m in \u001b[0;36m_call\u001b[0;34m(self, *args, **kwds)\u001b[0m\n\u001b[1;32m    853\u001b[0m       \u001b[0;31m# In this case we have created variables on the first call, so we run the\u001b[0m\u001b[0;34m\u001b[0m\u001b[0;34m\u001b[0m\u001b[0;34m\u001b[0m\u001b[0m\n\u001b[1;32m    854\u001b[0m       \u001b[0;31m# defunned version which is guaranteed to never create variables.\u001b[0m\u001b[0;34m\u001b[0m\u001b[0;34m\u001b[0m\u001b[0;34m\u001b[0m\u001b[0m\n\u001b[0;32m--> 855\u001b[0;31m       \u001b[0;32mreturn\u001b[0m \u001b[0mself\u001b[0m\u001b[0;34m.\u001b[0m\u001b[0m_stateless_fn\u001b[0m\u001b[0;34m(\u001b[0m\u001b[0;34m*\u001b[0m\u001b[0margs\u001b[0m\u001b[0;34m,\u001b[0m \u001b[0;34m**\u001b[0m\u001b[0mkwds\u001b[0m\u001b[0;34m)\u001b[0m  \u001b[0;31m# pylint: disable=not-callable\u001b[0m\u001b[0;34m\u001b[0m\u001b[0;34m\u001b[0m\u001b[0m\n\u001b[0m\u001b[1;32m    856\u001b[0m     \u001b[0;32melif\u001b[0m \u001b[0mself\u001b[0m\u001b[0;34m.\u001b[0m\u001b[0m_stateful_fn\u001b[0m \u001b[0;32mis\u001b[0m \u001b[0;32mnot\u001b[0m \u001b[0;32mNone\u001b[0m\u001b[0;34m:\u001b[0m\u001b[0;34m\u001b[0m\u001b[0;34m\u001b[0m\u001b[0m\n\u001b[1;32m    857\u001b[0m       \u001b[0;31m# Release the lock early so that multiple threads can perform the call\u001b[0m\u001b[0;34m\u001b[0m\u001b[0;34m\u001b[0m\u001b[0;34m\u001b[0m\u001b[0m\n",
            "\u001b[0;32m/usr/local/lib/python3.7/dist-packages/tensorflow/python/eager/function.py\u001b[0m in \u001b[0;36m__call__\u001b[0;34m(self, *args, **kwargs)\u001b[0m\n\u001b[1;32m   2941\u001b[0m        filtered_flat_args) = self._maybe_define_function(args, kwargs)\n\u001b[1;32m   2942\u001b[0m     return graph_function._call_flat(\n\u001b[0;32m-> 2943\u001b[0;31m         filtered_flat_args, captured_inputs=graph_function.captured_inputs)  # pylint: disable=protected-access\n\u001b[0m\u001b[1;32m   2944\u001b[0m \u001b[0;34m\u001b[0m\u001b[0m\n\u001b[1;32m   2945\u001b[0m   \u001b[0;34m@\u001b[0m\u001b[0mproperty\u001b[0m\u001b[0;34m\u001b[0m\u001b[0;34m\u001b[0m\u001b[0m\n",
            "\u001b[0;32m/usr/local/lib/python3.7/dist-packages/tensorflow/python/eager/function.py\u001b[0m in \u001b[0;36m_call_flat\u001b[0;34m(self, args, captured_inputs, cancellation_manager)\u001b[0m\n\u001b[1;32m   1917\u001b[0m       \u001b[0;31m# No tape is watching; skip to running the function.\u001b[0m\u001b[0;34m\u001b[0m\u001b[0;34m\u001b[0m\u001b[0;34m\u001b[0m\u001b[0m\n\u001b[1;32m   1918\u001b[0m       return self._build_call_outputs(self._inference_function.call(\n\u001b[0;32m-> 1919\u001b[0;31m           ctx, args, cancellation_manager=cancellation_manager))\n\u001b[0m\u001b[1;32m   1920\u001b[0m     forward_backward = self._select_forward_and_backward_functions(\n\u001b[1;32m   1921\u001b[0m         \u001b[0margs\u001b[0m\u001b[0;34m,\u001b[0m\u001b[0;34m\u001b[0m\u001b[0;34m\u001b[0m\u001b[0m\n",
            "\u001b[0;32m/usr/local/lib/python3.7/dist-packages/tensorflow/python/eager/function.py\u001b[0m in \u001b[0;36mcall\u001b[0;34m(self, ctx, args, cancellation_manager)\u001b[0m\n\u001b[1;32m    558\u001b[0m               \u001b[0minputs\u001b[0m\u001b[0;34m=\u001b[0m\u001b[0margs\u001b[0m\u001b[0;34m,\u001b[0m\u001b[0;34m\u001b[0m\u001b[0;34m\u001b[0m\u001b[0m\n\u001b[1;32m    559\u001b[0m               \u001b[0mattrs\u001b[0m\u001b[0;34m=\u001b[0m\u001b[0mattrs\u001b[0m\u001b[0;34m,\u001b[0m\u001b[0;34m\u001b[0m\u001b[0;34m\u001b[0m\u001b[0m\n\u001b[0;32m--> 560\u001b[0;31m               ctx=ctx)\n\u001b[0m\u001b[1;32m    561\u001b[0m         \u001b[0;32melse\u001b[0m\u001b[0;34m:\u001b[0m\u001b[0;34m\u001b[0m\u001b[0;34m\u001b[0m\u001b[0m\n\u001b[1;32m    562\u001b[0m           outputs = execute.execute_with_cancellation(\n",
            "\u001b[0;32m/usr/local/lib/python3.7/dist-packages/tensorflow/python/eager/execute.py\u001b[0m in \u001b[0;36mquick_execute\u001b[0;34m(op_name, num_outputs, inputs, attrs, ctx, name)\u001b[0m\n\u001b[1;32m     58\u001b[0m     \u001b[0mctx\u001b[0m\u001b[0;34m.\u001b[0m\u001b[0mensure_initialized\u001b[0m\u001b[0;34m(\u001b[0m\u001b[0;34m)\u001b[0m\u001b[0;34m\u001b[0m\u001b[0;34m\u001b[0m\u001b[0m\n\u001b[1;32m     59\u001b[0m     tensors = pywrap_tfe.TFE_Py_Execute(ctx._handle, device_name, op_name,\n\u001b[0;32m---> 60\u001b[0;31m                                         inputs, attrs, num_outputs)\n\u001b[0m\u001b[1;32m     61\u001b[0m   \u001b[0;32mexcept\u001b[0m \u001b[0mcore\u001b[0m\u001b[0;34m.\u001b[0m\u001b[0m_NotOkStatusException\u001b[0m \u001b[0;32mas\u001b[0m \u001b[0me\u001b[0m\u001b[0;34m:\u001b[0m\u001b[0;34m\u001b[0m\u001b[0;34m\u001b[0m\u001b[0m\n\u001b[1;32m     62\u001b[0m     \u001b[0;32mif\u001b[0m \u001b[0mname\u001b[0m \u001b[0;32mis\u001b[0m \u001b[0;32mnot\u001b[0m \u001b[0;32mNone\u001b[0m\u001b[0;34m:\u001b[0m\u001b[0;34m\u001b[0m\u001b[0;34m\u001b[0m\u001b[0m\n",
            "\u001b[0;31mKeyboardInterrupt\u001b[0m: "
          ]
        }
      ]
    },
    {
      "cell_type": "code",
      "metadata": {
        "id": "NmopreHgKuzF"
      },
      "source": [
        ""
      ],
      "execution_count": null,
      "outputs": []
    },
    {
      "cell_type": "code",
      "metadata": {
        "id": "EzvbDK7GKu2o"
      },
      "source": [
        "# Class count\n",
        "count_class_0, count_class_1 = train_data.risk_flag.value_counts()\n",
        "\n",
        "# Divide by class\n",
        "df_class_0 = train_data[train_data['risk_flag'] == 0]\n",
        "df_class_1 = train_data[train_data['risk_flag'] == 1]"
      ],
      "execution_count": 49,
      "outputs": []
    },
    {
      "cell_type": "code",
      "metadata": {
        "colab": {
          "base_uri": "https://localhost:8080/"
        },
        "id": "wZiKI-gaKu5x",
        "outputId": "0db18b12-b556-4f4b-8ace-02da15fce7fe"
      },
      "source": [
        "df_class_0_under = df_class_0.sample(count_class_1 + 30000) \n",
        "\n",
        "df_test_under = pd.concat([df_class_0_under, df_class_1], axis=0)\n",
        "\n",
        "print('Random under-sampling:')\n",
        "print(df_test_under.risk_flag.value_counts())"
      ],
      "execution_count": 67,
      "outputs": [
        {
          "output_type": "stream",
          "text": [
            "Random under-sampling:\n",
            "0    60996\n",
            "1    30996\n",
            "Name: risk_flag, dtype: int64\n"
          ],
          "name": "stdout"
        }
      ]
    },
    {
      "cell_type": "code",
      "metadata": {
        "id": "0j2zxvHjKu83"
      },
      "source": [
        "X_train= df_test_under.drop(['risk_flag', \"Id\" ],axis='columns')\n",
        "y_train = testLabels =df_test_under.risk_flag\n",
        "X_test = test_data.drop([ \"id\" ],axis='columns')"
      ],
      "execution_count": 68,
      "outputs": []
    },
    {
      "cell_type": "code",
      "metadata": {
        "colab": {
          "base_uri": "https://localhost:8080/"
        },
        "id": "7AD5JCUXKvAU",
        "outputId": "1d19f48f-08d9-48d8-f2ff-a479a3b3a0ad"
      },
      "source": [
        "y_preds = ANN(X_train, y_train, X_test,  'binary_crossentropy', -1)"
      ],
      "execution_count": 70,
      "outputs": [
        {
          "output_type": "stream",
          "text": [
            "Epoch 1/50\n",
            "2875/2875 [==============================] - 5s 1ms/step - loss: 0.6183 - accuracy: 0.6707\n",
            "Epoch 2/50\n",
            "2875/2875 [==============================] - 4s 1ms/step - loss: 0.4857 - accuracy: 0.7787\n",
            "Epoch 3/50\n",
            "2875/2875 [==============================] - 4s 1ms/step - loss: 0.4236 - accuracy: 0.8238\n",
            "Epoch 4/50\n",
            "2875/2875 [==============================] - 4s 1ms/step - loss: 0.3935 - accuracy: 0.8430\n",
            "Epoch 5/50\n",
            "2875/2875 [==============================] - 4s 1ms/step - loss: 0.3782 - accuracy: 0.8509\n",
            "Epoch 6/50\n",
            "2875/2875 [==============================] - 4s 2ms/step - loss: 0.3717 - accuracy: 0.8515\n",
            "Epoch 7/50\n",
            "2875/2875 [==============================] - 4s 1ms/step - loss: 0.3587 - accuracy: 0.8606\n",
            "Epoch 8/50\n",
            "2875/2875 [==============================] - 4s 1ms/step - loss: 0.3505 - accuracy: 0.8640\n",
            "Epoch 9/50\n",
            "2875/2875 [==============================] - 4s 2ms/step - loss: 0.3433 - accuracy: 0.8688\n",
            "Epoch 10/50\n",
            "2875/2875 [==============================] - 4s 2ms/step - loss: 0.3397 - accuracy: 0.8686\n",
            "Epoch 11/50\n",
            "2875/2875 [==============================] - 4s 1ms/step - loss: 0.3344 - accuracy: 0.8705\n",
            "Epoch 12/50\n",
            "2875/2875 [==============================] - 4s 1ms/step - loss: 0.3311 - accuracy: 0.8715\n",
            "Epoch 13/50\n",
            "2875/2875 [==============================] - 4s 1ms/step - loss: 0.3225 - accuracy: 0.8756\n",
            "Epoch 14/50\n",
            "2875/2875 [==============================] - 4s 1ms/step - loss: 0.3238 - accuracy: 0.8756\n",
            "Epoch 15/50\n",
            "2875/2875 [==============================] - 4s 1ms/step - loss: 0.3191 - accuracy: 0.8748\n",
            "Epoch 16/50\n",
            "2875/2875 [==============================] - 4s 2ms/step - loss: 0.3160 - accuracy: 0.8776\n",
            "Epoch 17/50\n",
            "2875/2875 [==============================] - 4s 1ms/step - loss: 0.3155 - accuracy: 0.8780\n",
            "Epoch 18/50\n",
            "2875/2875 [==============================] - 4s 1ms/step - loss: 0.3075 - accuracy: 0.8812\n",
            "Epoch 19/50\n",
            "2875/2875 [==============================] - 4s 1ms/step - loss: 0.3091 - accuracy: 0.8811\n",
            "Epoch 20/50\n",
            "2875/2875 [==============================] - 4s 2ms/step - loss: 0.3064 - accuracy: 0.8807\n",
            "Epoch 21/50\n",
            "2875/2875 [==============================] - 4s 2ms/step - loss: 0.3077 - accuracy: 0.8801\n",
            "Epoch 22/50\n",
            "2875/2875 [==============================] - 4s 2ms/step - loss: 0.3065 - accuracy: 0.8802\n",
            "Epoch 23/50\n",
            "2875/2875 [==============================] - 5s 2ms/step - loss: 0.3036 - accuracy: 0.8816\n",
            "Epoch 24/50\n",
            "2875/2875 [==============================] - 4s 1ms/step - loss: 0.3014 - accuracy: 0.8821\n",
            "Epoch 25/50\n",
            "2875/2875 [==============================] - 4s 2ms/step - loss: 0.2994 - accuracy: 0.8846\n",
            "Epoch 26/50\n",
            "2875/2875 [==============================] - 4s 1ms/step - loss: 0.2968 - accuracy: 0.8847\n",
            "Epoch 27/50\n",
            "2875/2875 [==============================] - 4s 2ms/step - loss: 0.2962 - accuracy: 0.8852\n",
            "Epoch 28/50\n",
            "2875/2875 [==============================] - 4s 1ms/step - loss: 0.2949 - accuracy: 0.8854\n",
            "Epoch 29/50\n",
            "2875/2875 [==============================] - 4s 1ms/step - loss: 0.2924 - accuracy: 0.8851\n",
            "Epoch 30/50\n",
            "2875/2875 [==============================] - 4s 1ms/step - loss: 0.2896 - accuracy: 0.8879\n",
            "Epoch 31/50\n",
            "2875/2875 [==============================] - 4s 1ms/step - loss: 0.2868 - accuracy: 0.8888\n",
            "Epoch 32/50\n",
            "2875/2875 [==============================] - 4s 1ms/step - loss: 0.2852 - accuracy: 0.8886\n",
            "Epoch 33/50\n",
            "2875/2875 [==============================] - 4s 1ms/step - loss: 0.2847 - accuracy: 0.8888\n",
            "Epoch 34/50\n",
            "2875/2875 [==============================] - 4s 2ms/step - loss: 0.2836 - accuracy: 0.8905\n",
            "Epoch 35/50\n",
            "2875/2875 [==============================] - 4s 2ms/step - loss: 0.2832 - accuracy: 0.8903\n",
            "Epoch 36/50\n",
            "2875/2875 [==============================] - 4s 2ms/step - loss: 0.2820 - accuracy: 0.8914\n",
            "Epoch 37/50\n",
            "2875/2875 [==============================] - 4s 2ms/step - loss: 0.2812 - accuracy: 0.8915\n",
            "Epoch 38/50\n",
            "2875/2875 [==============================] - 4s 2ms/step - loss: 0.2822 - accuracy: 0.8897\n",
            "Epoch 39/50\n",
            "2875/2875 [==============================] - 4s 1ms/step - loss: 0.2831 - accuracy: 0.8903\n",
            "Epoch 40/50\n",
            "2875/2875 [==============================] - 4s 2ms/step - loss: 0.2813 - accuracy: 0.8906\n",
            "Epoch 41/50\n",
            "2875/2875 [==============================] - 4s 1ms/step - loss: 0.2784 - accuracy: 0.8912\n",
            "Epoch 42/50\n",
            "2875/2875 [==============================] - 4s 2ms/step - loss: 0.2790 - accuracy: 0.8923\n",
            "Epoch 43/50\n",
            "2875/2875 [==============================] - 4s 2ms/step - loss: 0.2732 - accuracy: 0.8937\n",
            "Epoch 44/50\n",
            "2875/2875 [==============================] - 4s 1ms/step - loss: 0.2764 - accuracy: 0.8924\n",
            "Epoch 45/50\n",
            "2875/2875 [==============================] - 4s 1ms/step - loss: 0.2716 - accuracy: 0.8941\n",
            "Epoch 46/50\n",
            "2875/2875 [==============================] - 4s 1ms/step - loss: 0.2685 - accuracy: 0.8957\n",
            "Epoch 47/50\n",
            "2875/2875 [==============================] - 4s 1ms/step - loss: 0.2753 - accuracy: 0.8929\n",
            "Epoch 48/50\n",
            "2875/2875 [==============================] - 4s 2ms/step - loss: 0.2715 - accuracy: 0.8962\n",
            "Epoch 49/50\n",
            "2875/2875 [==============================] - 4s 2ms/step - loss: 0.2727 - accuracy: 0.8942\n",
            "Epoch 50/50\n",
            "2875/2875 [==============================] - 4s 2ms/step - loss: 0.2718 - accuracy: 0.8933\n"
          ],
          "name": "stdout"
        }
      ]
    },
    {
      "cell_type": "code",
      "metadata": {
        "colab": {
          "base_uri": "https://localhost:8080/"
        },
        "id": "vatg-26WKvDv",
        "outputId": "b35ccae4-3e30-4559-85cc-0c0523a6ab8e"
      },
      "source": [
        "y_pred"
      ],
      "execution_count": 71,
      "outputs": [
        {
          "output_type": "execute_result",
          "data": {
            "text/plain": [
              "array([0, 0, 1, ..., 0, 0, 1])"
            ]
          },
          "metadata": {
            "tags": []
          },
          "execution_count": 71
        }
      ]
    },
    {
      "cell_type": "code",
      "metadata": {
        "id": "gCIM8RspKvHi"
      },
      "source": [
        ""
      ],
      "execution_count": null,
      "outputs": []
    },
    {
      "cell_type": "code",
      "metadata": {
        "id": "vnTvERzyKvKb"
      },
      "source": [
        ""
      ],
      "execution_count": null,
      "outputs": []
    },
    {
      "cell_type": "code",
      "metadata": {
        "id": "J9vaoGWzKvOS"
      },
      "source": [
        ""
      ],
      "execution_count": null,
      "outputs": []
    },
    {
      "cell_type": "code",
      "metadata": {
        "colab": {
          "base_uri": "https://localhost:8080/"
        },
        "id": "yyGt54notb96",
        "outputId": "2ec76865-6f1d-4f11-f58d-17fd9d73b469"
      },
      "source": [
        ""
      ],
      "execution_count": 17,
      "outputs": [
        {
          "output_type": "execute_result",
          "data": {
            "text/plain": [
              "28000"
            ]
          },
          "metadata": {
            "tags": []
          },
          "execution_count": 17
        }
      ]
    },
    {
      "cell_type": "code",
      "metadata": {
        "id": "H91QFalOBqzD"
      },
      "source": [
        ""
      ],
      "execution_count": 26,
      "outputs": []
    },
    {
      "cell_type": "code",
      "metadata": {
        "id": "LZGrytaHv2h5"
      },
      "source": [
        ""
      ],
      "execution_count": 27,
      "outputs": []
    },
    {
      "cell_type": "code",
      "metadata": {
        "id": "XMOYtV-cyUDo"
      },
      "source": [
        "import numpy as np\n",
        "import pandas as pd\n",
        "prediction = pd.DataFrame( y_pred,columns=[\"predictions\"]).to_csv('prediction.csv', index = True)"
      ],
      "execution_count": 75,
      "outputs": []
    },
    {
      "cell_type": "code",
      "metadata": {
        "id": "N_AHOlf852hs"
      },
      "source": [
        "prediction"
      ],
      "execution_count": 73,
      "outputs": []
    },
    {
      "cell_type": "code",
      "metadata": {
        "colab": {
          "base_uri": "https://localhost:8080/"
        },
        "id": "l34fGUxu55cD",
        "outputId": "5494413f-11df-49a6-a300-ba32f43a5cc0"
      },
      "source": [
        "xtest.shape"
      ],
      "execution_count": 30,
      "outputs": [
        {
          "output_type": "execute_result",
          "data": {
            "text/plain": [
              "(28000, 409)"
            ]
          },
          "metadata": {
            "tags": []
          },
          "execution_count": 30
        }
      ]
    },
    {
      "cell_type": "code",
      "metadata": {
        "id": "ve3M_njXCNLf"
      },
      "source": [
        ""
      ],
      "execution_count": null,
      "outputs": []
    }
  ]
}