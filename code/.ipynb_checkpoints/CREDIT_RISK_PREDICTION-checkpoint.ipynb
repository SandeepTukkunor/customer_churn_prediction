{
 "cells": [
  {
   "cell_type": "code",
   "execution_count": 2,
   "metadata": {
    "id": "a7S8V8JTHpYR"
   },
   "outputs": [],
   "source": [
    "import numpy as np\n",
    "import pandas as pd\n",
    "import matplotlib.pyplot as plt\n",
    "import seaborn as sns\n",
    "from matplotlib import rcParams\n",
    "from scipy import stats\n",
    "\n",
    "\n"
   ]
  },
  {
   "cell_type": "code",
   "execution_count": null,
   "metadata": {
    "id": "0AONQmNpLjGr"
   },
   "outputs": [],
   "source": []
  },
  {
   "cell_type": "code",
   "execution_count": 3,
   "metadata": {
    "id": "rAozBwdfMdtG"
   },
   "outputs": [
    {
     "ename": "FileNotFoundError",
     "evalue": "[Errno 2] No such file or directory: '/content/drive/MyDrive/univai/Training Data.csv'",
     "output_type": "error",
     "traceback": [
      "\u001b[1;31m---------------------------------------------------------------------------\u001b[0m",
      "\u001b[1;31mFileNotFoundError\u001b[0m                         Traceback (most recent call last)",
      "\u001b[1;32m<ipython-input-3-c263f48834c8>\u001b[0m in \u001b[0;36m<module>\u001b[1;34m\u001b[0m\n\u001b[1;32m----> 1\u001b[1;33m \u001b[0mtrain_data\u001b[0m \u001b[1;33m=\u001b[0m \u001b[0mpd\u001b[0m\u001b[1;33m.\u001b[0m\u001b[0mread_csv\u001b[0m\u001b[1;33m(\u001b[0m\u001b[1;34m\"/content/drive/MyDrive/univai/Training Data.csv\"\u001b[0m\u001b[1;33m)\u001b[0m\u001b[1;33m\u001b[0m\u001b[1;33m\u001b[0m\u001b[0m\n\u001b[0m\u001b[0;32m      2\u001b[0m \u001b[0mtest_data\u001b[0m \u001b[1;33m=\u001b[0m \u001b[0mpd\u001b[0m\u001b[1;33m.\u001b[0m\u001b[0mread_csv\u001b[0m\u001b[1;33m(\u001b[0m\u001b[1;34m\"/content/drive/MyDrive/univai/Test Data.csv\"\u001b[0m\u001b[1;33m)\u001b[0m\u001b[1;33m\u001b[0m\u001b[1;33m\u001b[0m\u001b[0m\n",
      "\u001b[1;32m~\\anaconda3\\lib\\site-packages\\pandas\\io\\parsers.py\u001b[0m in \u001b[0;36mread_csv\u001b[1;34m(filepath_or_buffer, sep, delimiter, header, names, index_col, usecols, squeeze, prefix, mangle_dupe_cols, dtype, engine, converters, true_values, false_values, skipinitialspace, skiprows, skipfooter, nrows, na_values, keep_default_na, na_filter, verbose, skip_blank_lines, parse_dates, infer_datetime_format, keep_date_col, date_parser, dayfirst, cache_dates, iterator, chunksize, compression, thousands, decimal, lineterminator, quotechar, quoting, doublequote, escapechar, comment, encoding, dialect, error_bad_lines, warn_bad_lines, delim_whitespace, low_memory, memory_map, float_precision)\u001b[0m\n\u001b[0;32m    684\u001b[0m     )\n\u001b[0;32m    685\u001b[0m \u001b[1;33m\u001b[0m\u001b[0m\n\u001b[1;32m--> 686\u001b[1;33m     \u001b[1;32mreturn\u001b[0m \u001b[0m_read\u001b[0m\u001b[1;33m(\u001b[0m\u001b[0mfilepath_or_buffer\u001b[0m\u001b[1;33m,\u001b[0m \u001b[0mkwds\u001b[0m\u001b[1;33m)\u001b[0m\u001b[1;33m\u001b[0m\u001b[1;33m\u001b[0m\u001b[0m\n\u001b[0m\u001b[0;32m    687\u001b[0m \u001b[1;33m\u001b[0m\u001b[0m\n\u001b[0;32m    688\u001b[0m \u001b[1;33m\u001b[0m\u001b[0m\n",
      "\u001b[1;32m~\\anaconda3\\lib\\site-packages\\pandas\\io\\parsers.py\u001b[0m in \u001b[0;36m_read\u001b[1;34m(filepath_or_buffer, kwds)\u001b[0m\n\u001b[0;32m    450\u001b[0m \u001b[1;33m\u001b[0m\u001b[0m\n\u001b[0;32m    451\u001b[0m     \u001b[1;31m# Create the parser.\u001b[0m\u001b[1;33m\u001b[0m\u001b[1;33m\u001b[0m\u001b[1;33m\u001b[0m\u001b[0m\n\u001b[1;32m--> 452\u001b[1;33m     \u001b[0mparser\u001b[0m \u001b[1;33m=\u001b[0m \u001b[0mTextFileReader\u001b[0m\u001b[1;33m(\u001b[0m\u001b[0mfp_or_buf\u001b[0m\u001b[1;33m,\u001b[0m \u001b[1;33m**\u001b[0m\u001b[0mkwds\u001b[0m\u001b[1;33m)\u001b[0m\u001b[1;33m\u001b[0m\u001b[1;33m\u001b[0m\u001b[0m\n\u001b[0m\u001b[0;32m    453\u001b[0m \u001b[1;33m\u001b[0m\u001b[0m\n\u001b[0;32m    454\u001b[0m     \u001b[1;32mif\u001b[0m \u001b[0mchunksize\u001b[0m \u001b[1;32mor\u001b[0m \u001b[0miterator\u001b[0m\u001b[1;33m:\u001b[0m\u001b[1;33m\u001b[0m\u001b[1;33m\u001b[0m\u001b[0m\n",
      "\u001b[1;32m~\\anaconda3\\lib\\site-packages\\pandas\\io\\parsers.py\u001b[0m in \u001b[0;36m__init__\u001b[1;34m(self, f, engine, **kwds)\u001b[0m\n\u001b[0;32m    944\u001b[0m             \u001b[0mself\u001b[0m\u001b[1;33m.\u001b[0m\u001b[0moptions\u001b[0m\u001b[1;33m[\u001b[0m\u001b[1;34m\"has_index_names\"\u001b[0m\u001b[1;33m]\u001b[0m \u001b[1;33m=\u001b[0m \u001b[0mkwds\u001b[0m\u001b[1;33m[\u001b[0m\u001b[1;34m\"has_index_names\"\u001b[0m\u001b[1;33m]\u001b[0m\u001b[1;33m\u001b[0m\u001b[1;33m\u001b[0m\u001b[0m\n\u001b[0;32m    945\u001b[0m \u001b[1;33m\u001b[0m\u001b[0m\n\u001b[1;32m--> 946\u001b[1;33m         \u001b[0mself\u001b[0m\u001b[1;33m.\u001b[0m\u001b[0m_make_engine\u001b[0m\u001b[1;33m(\u001b[0m\u001b[0mself\u001b[0m\u001b[1;33m.\u001b[0m\u001b[0mengine\u001b[0m\u001b[1;33m)\u001b[0m\u001b[1;33m\u001b[0m\u001b[1;33m\u001b[0m\u001b[0m\n\u001b[0m\u001b[0;32m    947\u001b[0m \u001b[1;33m\u001b[0m\u001b[0m\n\u001b[0;32m    948\u001b[0m     \u001b[1;32mdef\u001b[0m \u001b[0mclose\u001b[0m\u001b[1;33m(\u001b[0m\u001b[0mself\u001b[0m\u001b[1;33m)\u001b[0m\u001b[1;33m:\u001b[0m\u001b[1;33m\u001b[0m\u001b[1;33m\u001b[0m\u001b[0m\n",
      "\u001b[1;32m~\\anaconda3\\lib\\site-packages\\pandas\\io\\parsers.py\u001b[0m in \u001b[0;36m_make_engine\u001b[1;34m(self, engine)\u001b[0m\n\u001b[0;32m   1176\u001b[0m     \u001b[1;32mdef\u001b[0m \u001b[0m_make_engine\u001b[0m\u001b[1;33m(\u001b[0m\u001b[0mself\u001b[0m\u001b[1;33m,\u001b[0m \u001b[0mengine\u001b[0m\u001b[1;33m=\u001b[0m\u001b[1;34m\"c\"\u001b[0m\u001b[1;33m)\u001b[0m\u001b[1;33m:\u001b[0m\u001b[1;33m\u001b[0m\u001b[1;33m\u001b[0m\u001b[0m\n\u001b[0;32m   1177\u001b[0m         \u001b[1;32mif\u001b[0m \u001b[0mengine\u001b[0m \u001b[1;33m==\u001b[0m \u001b[1;34m\"c\"\u001b[0m\u001b[1;33m:\u001b[0m\u001b[1;33m\u001b[0m\u001b[1;33m\u001b[0m\u001b[0m\n\u001b[1;32m-> 1178\u001b[1;33m             \u001b[0mself\u001b[0m\u001b[1;33m.\u001b[0m\u001b[0m_engine\u001b[0m \u001b[1;33m=\u001b[0m \u001b[0mCParserWrapper\u001b[0m\u001b[1;33m(\u001b[0m\u001b[0mself\u001b[0m\u001b[1;33m.\u001b[0m\u001b[0mf\u001b[0m\u001b[1;33m,\u001b[0m \u001b[1;33m**\u001b[0m\u001b[0mself\u001b[0m\u001b[1;33m.\u001b[0m\u001b[0moptions\u001b[0m\u001b[1;33m)\u001b[0m\u001b[1;33m\u001b[0m\u001b[1;33m\u001b[0m\u001b[0m\n\u001b[0m\u001b[0;32m   1179\u001b[0m         \u001b[1;32melse\u001b[0m\u001b[1;33m:\u001b[0m\u001b[1;33m\u001b[0m\u001b[1;33m\u001b[0m\u001b[0m\n\u001b[0;32m   1180\u001b[0m             \u001b[1;32mif\u001b[0m \u001b[0mengine\u001b[0m \u001b[1;33m==\u001b[0m \u001b[1;34m\"python\"\u001b[0m\u001b[1;33m:\u001b[0m\u001b[1;33m\u001b[0m\u001b[1;33m\u001b[0m\u001b[0m\n",
      "\u001b[1;32m~\\anaconda3\\lib\\site-packages\\pandas\\io\\parsers.py\u001b[0m in \u001b[0;36m__init__\u001b[1;34m(self, src, **kwds)\u001b[0m\n\u001b[0;32m   2006\u001b[0m         \u001b[0mkwds\u001b[0m\u001b[1;33m[\u001b[0m\u001b[1;34m\"usecols\"\u001b[0m\u001b[1;33m]\u001b[0m \u001b[1;33m=\u001b[0m \u001b[0mself\u001b[0m\u001b[1;33m.\u001b[0m\u001b[0musecols\u001b[0m\u001b[1;33m\u001b[0m\u001b[1;33m\u001b[0m\u001b[0m\n\u001b[0;32m   2007\u001b[0m \u001b[1;33m\u001b[0m\u001b[0m\n\u001b[1;32m-> 2008\u001b[1;33m         \u001b[0mself\u001b[0m\u001b[1;33m.\u001b[0m\u001b[0m_reader\u001b[0m \u001b[1;33m=\u001b[0m \u001b[0mparsers\u001b[0m\u001b[1;33m.\u001b[0m\u001b[0mTextReader\u001b[0m\u001b[1;33m(\u001b[0m\u001b[0msrc\u001b[0m\u001b[1;33m,\u001b[0m \u001b[1;33m**\u001b[0m\u001b[0mkwds\u001b[0m\u001b[1;33m)\u001b[0m\u001b[1;33m\u001b[0m\u001b[1;33m\u001b[0m\u001b[0m\n\u001b[0m\u001b[0;32m   2009\u001b[0m         \u001b[0mself\u001b[0m\u001b[1;33m.\u001b[0m\u001b[0munnamed_cols\u001b[0m \u001b[1;33m=\u001b[0m \u001b[0mself\u001b[0m\u001b[1;33m.\u001b[0m\u001b[0m_reader\u001b[0m\u001b[1;33m.\u001b[0m\u001b[0munnamed_cols\u001b[0m\u001b[1;33m\u001b[0m\u001b[1;33m\u001b[0m\u001b[0m\n\u001b[0;32m   2010\u001b[0m \u001b[1;33m\u001b[0m\u001b[0m\n",
      "\u001b[1;32mpandas\\_libs\\parsers.pyx\u001b[0m in \u001b[0;36mpandas._libs.parsers.TextReader.__cinit__\u001b[1;34m()\u001b[0m\n",
      "\u001b[1;32mpandas\\_libs\\parsers.pyx\u001b[0m in \u001b[0;36mpandas._libs.parsers.TextReader._setup_parser_source\u001b[1;34m()\u001b[0m\n",
      "\u001b[1;31mFileNotFoundError\u001b[0m: [Errno 2] No such file or directory: '/content/drive/MyDrive/univai/Training Data.csv'"
     ]
    }
   ],
   "source": [
    "train_data = pd.read_csv(\"/content/drive/MyDrive/univai/Training Data.csv\")\n",
    "test_data = pd.read_csv(\"/content/drive/MyDrive/univai/Test Data.csv\")"
   ]
  },
  {
   "cell_type": "code",
   "execution_count": null,
   "metadata": {
    "id": "gAXg0PXHMpe6"
   },
   "outputs": [],
   "source": [
    "data = train_data"
   ]
  },
  {
   "cell_type": "code",
   "execution_count": null,
   "metadata": {
    "colab": {
     "base_uri": "https://localhost:8080/",
     "height": 282
    },
    "id": "C2ou80ylM1FB",
    "outputId": "5a920046-cd08-4c54-9165-784ba04578a6"
   },
   "outputs": [],
   "source": [
    "data.describe()"
   ]
  },
  {
   "cell_type": "code",
   "execution_count": null,
   "metadata": {
    "id": "WyEMEJxONC4J"
   },
   "outputs": [],
   "source": []
  },
  {
   "cell_type": "markdown",
   "metadata": {
    "id": "yk3FHVPFs3BU"
   },
   "source": [
    "## Expleratory Data Analysis\n"
   ]
  },
  {
   "cell_type": "markdown",
   "metadata": {
    "id": "n6-ABFwDtLqO"
   },
   "source": [
    "###checking for the missing Value"
   ]
  },
  {
   "cell_type": "code",
   "execution_count": null,
   "metadata": {
    "colab": {
     "base_uri": "https://localhost:8080/"
    },
    "id": "XAj86TmnNlH7",
    "outputId": "07b7c10f-0ddc-491a-cf5c-7d6f1770db6e"
   },
   "outputs": [],
   "source": [
    "data.isnull().sum()"
   ]
  },
  {
   "cell_type": "code",
   "execution_count": null,
   "metadata": {
    "id": "ELMQDacYHct5"
   },
   "outputs": [],
   "source": []
  },
  {
   "cell_type": "markdown",
   "metadata": {
    "id": "E_FBAde5tfYu"
   },
   "source": [
    "##### There are no Missing values "
   ]
  },
  {
   "cell_type": "markdown",
   "metadata": {
    "id": "KXcUTc_At7zD"
   },
   "source": [
    "##### relationship between car ownership and Loan default"
   ]
  },
  {
   "cell_type": "code",
   "execution_count": null,
   "metadata": {
    "id": "EDIyliX1Pnup"
   },
   "outputs": [],
   "source": []
  },
  {
   "cell_type": "code",
   "execution_count": null,
   "metadata": {
    "colab": {
     "base_uri": "https://localhost:8080/"
    },
    "id": "ssluLs2iPqvW",
    "outputId": "0b497452-0be9-414a-8aea-4a1f7e610656"
   },
   "outputs": [],
   "source": [
    "data[\"married\"]"
   ]
  },
  {
   "cell_type": "code",
   "execution_count": null,
   "metadata": {
    "colab": {
     "base_uri": "https://localhost:8080/",
     "height": 297
    },
    "id": "Zh7IK7GUQHWU",
    "outputId": "760046b8-e563-49b0-84f3-2c17f69833a4"
   },
   "outputs": [],
   "source": [
    "sns.countplot(data = data,x = \"married\",)\n"
   ]
  },
  {
   "cell_type": "code",
   "execution_count": null,
   "metadata": {
    "colab": {
     "base_uri": "https://localhost:8080/"
    },
    "id": "fyJDqBuVzOQi",
    "outputId": "31999d3b-2ce8-4cb9-9981-2d39e7a2f3d2"
   },
   "outputs": [],
   "source": [
    "# most of them who have taken loan are not married\n",
    "data[\"married\"].value_counts()\n",
    "\n",
    "#only around 25thounsand among all are married "
   ]
  },
  {
   "cell_type": "code",
   "execution_count": null,
   "metadata": {
    "colab": {
     "base_uri": "https://localhost:8080/",
     "height": 298
    },
    "id": "gjNZxt88zurO",
    "outputId": "e393b78a-da1c-484d-fb7f-bd90e2496dba"
   },
   "outputs": [],
   "source": [
    "sns.countplot(x=\"risk_flag\", data=data, palette=\"viridis\")\n",
    "ax = plt.gca()\n",
    "\n",
    "y_max = data[\"risk_flag\"].value_counts().max()\n",
    "ax.set_ylim([0,252000])\n",
    "\n",
    "for p in ax.patches:\n",
    "    ax.text(p.get_x() + p.get_width()/2., p.get_height(), '%d' % int(p.get_height()), \n",
    "            fontsize=12, color='black', ha='center', va='bottom')\n",
    "    \n",
    "plt.title('Total Number of defaulters(1) VS non defaulters(0)',size='15')\n",
    "plt.show()"
   ]
  },
  {
   "cell_type": "code",
   "execution_count": null,
   "metadata": {
    "colab": {
     "base_uri": "https://localhost:8080/",
     "height": 399
    },
    "id": "jQMVnE7WkBS6",
    "outputId": "0e921beb-f2b7-4c34-aefd-55d05eb3fec4"
   },
   "outputs": [],
   "source": [
    "#Income distribution \n",
    "sns.distplot(data[\"income\"], kde=True, rug=True);\n",
    "plt.axvline(np.median(data[\"income\"]))\n",
    "plt.axvline(np.mean(data[\"income\"],))"
   ]
  },
  {
   "cell_type": "code",
   "execution_count": null,
   "metadata": {
    "colab": {
     "base_uri": "https://localhost:8080/",
     "height": 406
    },
    "id": "9xyLREm_1IbX",
    "outputId": "ebc08c08-3874-4762-f43f-54e1d5743410"
   },
   "outputs": [],
   "source": [
    "plt.figure(figsize=(18,6))\n",
    "sns.countplot(data= data, x = \"age\", palette = \"Paired\")\n"
   ]
  },
  {
   "cell_type": "code",
   "execution_count": null,
   "metadata": {
    "id": "zU8maV2afX14"
   },
   "outputs": [],
   "source": []
  },
  {
   "cell_type": "code",
   "execution_count": null,
   "metadata": {
    "colab": {
     "base_uri": "https://localhost:8080/",
     "height": 298
    },
    "id": "I2yFDIT_6wYf",
    "outputId": "58e57126-ba46-48a6-9594-a7a33e128892"
   },
   "outputs": [],
   "source": [
    "fig, axs = plt.subplots(ncols=2, nrows=2, )\n",
    "sns.countplot(x='married', data=data, ax=axs[0][0])\n",
    "sns.countplot(x='house_ownership', data=data, ax=axs[0][1])\n",
    "sns.countplot(x='car_ownership', data=data, ax=axs[1][0])\n",
    "sns.countplot(x='risk_flag', data=data, ax=axs[1][1])"
   ]
  },
  {
   "cell_type": "code",
   "execution_count": null,
   "metadata": {
    "colab": {
     "base_uri": "https://localhost:8080/",
     "height": 214
    },
    "id": "SdOyKziHVsac",
    "outputId": "e8e4cedc-74be-413f-efa7-6c610f712870"
   },
   "outputs": [],
   "source": [
    "data.head()"
   ]
  },
  {
   "cell_type": "code",
   "execution_count": null,
   "metadata": {
    "colab": {
     "base_uri": "https://localhost:8080/",
     "height": 502
    },
    "id": "NW8JmZVFBekW",
    "outputId": "0e87215c-62ac-4cba-fdb9-9f9feb329c08"
   },
   "outputs": [],
   "source": [
    "# defaulters And Non defaulters\n",
    "\n",
    "\n",
    "sns.displot( ax = ax, data=data, x=\"state\",  kde=True, hue = \"risk_flag\", height=8.27, aspect=30/10 )\n"
   ]
  },
  {
   "cell_type": "code",
   "execution_count": null,
   "metadata": {
    "id": "YaCO-4EaTmxN"
   },
   "outputs": [],
   "source": []
  },
  {
   "cell_type": "code",
   "execution_count": null,
   "metadata": {
    "colab": {
     "base_uri": "https://localhost:8080/",
     "height": 498
    },
    "id": "URcYWKIEHr0W",
    "outputId": "9dfc674a-e0a3-4286-c431-2a726c251765"
   },
   "outputs": [],
   "source": [
    "# Risk_flag compariosn between married and unmarried\n",
    "\n",
    "plt.figure(figsize=(16,8))\n",
    "ax = sns.countplot(x = 'risk_flag', data = data,hue = 'married', )\n",
    "plt.xlabel(\"risk_flag\")\n",
    "plt.ylabel(\"Total Count\")\n",
    "plt.show()\n",
    "\n",
    "    \n",
    "plt.show()"
   ]
  },
  {
   "cell_type": "code",
   "execution_count": null,
   "metadata": {
    "id": "7jey-mAbPbt8"
   },
   "outputs": [],
   "source": []
  },
  {
   "cell_type": "code",
   "execution_count": null,
   "metadata": {
    "colab": {
     "base_uri": "https://localhost:8080/"
    },
    "id": "XH5lyhkfU5Vm",
    "outputId": "586fe85b-58c4-41ca-fb27-6eb4ccba8fb0"
   },
   "outputs": [],
   "source": [
    "data['married'].value_counts()"
   ]
  },
  {
   "cell_type": "code",
   "execution_count": null,
   "metadata": {
    "colab": {
     "base_uri": "https://localhost:8080/",
     "height": 582
    },
    "id": "F7V3fs8lVH4G",
    "outputId": "0fe3492a-ca03-494f-a1ba-20b2eaf84f02"
   },
   "outputs": [],
   "source": [
    "#riskflag at certaon ages \n",
    "\n",
    "sns.displot( ax = ax, data=data, x=\"age\",  kde=True, hue = \"risk_flag\", height=8.27, aspect=20/8 )"
   ]
  },
  {
   "cell_type": "code",
   "execution_count": null,
   "metadata": {
    "colab": {
     "base_uri": "https://localhost:8080/",
     "height": 502
    },
    "id": "MTIdcuRKeYy6",
    "outputId": "42273ae8-abb4-4b06-bd2c-98b3f0438b99"
   },
   "outputs": [],
   "source": [
    "#risk_flag among the experienced \n",
    "\n",
    "sns.displot( ax = ax, data=data, x=\"experience\",  kde=True, hue = \"risk_flag\", height=8.27, aspect=30/10 )\n"
   ]
  },
  {
   "cell_type": "code",
   "execution_count": null,
   "metadata": {
    "id": "7P-0btrjg7CI"
   },
   "outputs": [],
   "source": [
    "#most common profession \n"
   ]
  },
  {
   "cell_type": "markdown",
   "metadata": {
    "id": "kRd3gFbblmMD"
   },
   "source": [
    "## Analysis about Defaulters"
   ]
  },
  {
   "cell_type": "code",
   "execution_count": null,
   "metadata": {
    "colab": {
     "base_uri": "https://localhost:8080/",
     "height": 214
    },
    "id": "5ZHQNwcijIAP",
    "outputId": "4fed2496-ad3e-4b69-a049-327cc8bfd1ae"
   },
   "outputs": [],
   "source": [
    "defaulter = data[data.risk_flag == 1]\n",
    "defaulter.head()"
   ]
  },
  {
   "cell_type": "code",
   "execution_count": null,
   "metadata": {
    "colab": {
     "base_uri": "https://localhost:8080/",
     "height": 282
    },
    "id": "2LDo2UcLkxaM",
    "outputId": "0f93bbe5-d572-41e6-f5b5-2d9f61153247"
   },
   "outputs": [],
   "source": [
    "defaulter.describe()"
   ]
  },
  {
   "cell_type": "code",
   "execution_count": null,
   "metadata": {
    "colab": {
     "base_uri": "https://localhost:8080/"
    },
    "id": "OlCCFJhLxXRz",
    "outputId": "9884f041-48a4-4668-9cc7-75b1e0224dc4"
   },
   "outputs": [],
   "source": [
    "defaulter.info()"
   ]
  },
  {
   "cell_type": "code",
   "execution_count": null,
   "metadata": {
    "colab": {
     "base_uri": "https://localhost:8080/",
     "height": 300
    },
    "id": "lyyybhual3Gn",
    "outputId": "47b20eba-c9db-4635-97e4-b17dbfa45604"
   },
   "outputs": [],
   "source": [
    "\n",
    "\n",
    "fig, axs = plt.subplots(ncols=2, nrows=2, )\n",
    "sns.countplot(x='married', data=defaulter, ax=axs[0][0])\n",
    "sns.countplot(x='house_ownership', data=defaulter, ax=axs[0][1])\n",
    "sns.countplot(x='car_ownership', data=defaulter, ax=axs[1][0])\n",
    "sns.countplot(x='risk_flag', data=defaulter, ax=axs[1][1])\n"
   ]
  },
  {
   "cell_type": "markdown",
   "metadata": {
    "id": "LzsMrUknoucg"
   },
   "source": []
  },
  {
   "cell_type": "code",
   "execution_count": null,
   "metadata": {
    "id": "fqvu72Ndm3ev"
   },
   "outputs": [],
   "source": []
  },
  {
   "cell_type": "code",
   "execution_count": null,
   "metadata": {
    "id": "fy6LDfvJqGQi"
   },
   "outputs": [],
   "source": []
  },
  {
   "cell_type": "code",
   "execution_count": null,
   "metadata": {
    "colab": {
     "base_uri": "https://localhost:8080/",
     "height": 399
    },
    "id": "PdbsnZh1qPZL",
    "outputId": "52bef018-4227-4451-f50f-4ef206500a15"
   },
   "outputs": [],
   "source": [
    "#Income among the defaulters\n",
    "sns.distplot(defaulter[\"income\"], kde=True, rug=True);\n",
    "plt.axvline(np.median(defaulter[\"income\"]))\n",
    "plt.axvline(np.mean(defaulter[\"income\"],))\n"
   ]
  },
  {
   "cell_type": "code",
   "execution_count": null,
   "metadata": {
    "colab": {
     "base_uri": "https://localhost:8080/",
     "height": 1000
    },
    "id": "hH3gDBuDthYy",
    "outputId": "bb9cb698-4b76-4f4b-e1de-a0f3bfb578cd"
   },
   "outputs": [],
   "source": [
    "# most common profession among the defaulters\n",
    "most_common_profession = defaulter[\"profession\"].value_counts().to_frame()\n",
    "most_common_profession"
   ]
  },
  {
   "cell_type": "code",
   "execution_count": null,
   "metadata": {
    "colab": {
     "base_uri": "https://localhost:8080/",
     "height": 678
    },
    "id": "eoqZIbdM0I1w",
    "outputId": "7b539232-1725-4c81-d268-26f462d9c67e"
   },
   "outputs": [],
   "source": [
    "plt.figure(figsize=(16,10))\n",
    "ax = sns.countplot(defaulter.profession, order=most_common_profession.index[0:15] ,palette=\"Paired\")\n",
    "plt.title(\"Top 15 professions with most number of defauters\")\n",
    "plt.xlabel(\"Profession \")\n",
    "plt.ylabel(\"Total Count\")\n",
    "for p in ax.patches:\n",
    "    ax.text(p.get_x() + p.get_width()/2. , p.get_height(), \"%d\" % int(p.get_height()), \n",
    "            fontsize = 12, color = \"black\", ha = \"center\", va = \"bottom\")\n",
    "\n",
    "\n",
    "plt.show()"
   ]
  },
  {
   "cell_type": "code",
   "execution_count": null,
   "metadata": {
    "id": "Y8kLTv4E2OZv"
   },
   "outputs": [],
   "source": []
  },
  {
   "cell_type": "code",
   "execution_count": null,
   "metadata": {
    "id": "TWufxOJP2Oga"
   },
   "outputs": [],
   "source": []
  },
  {
   "cell_type": "code",
   "execution_count": null,
   "metadata": {
    "colab": {
     "base_uri": "https://localhost:8080/",
     "height": 194
    },
    "id": "P4FmYMqu2Olo",
    "outputId": "c6c9e318-9b2d-4498-a856-314ed2f59b5a"
   },
   "outputs": [],
   "source": [
    "#most common age of defaulters \n",
    "most_common_age = defaulter[\"age\"].value_counts().to_frame()\n",
    "most_common_age.head()"
   ]
  },
  {
   "cell_type": "code",
   "execution_count": null,
   "metadata": {
    "colab": {
     "base_uri": "https://localhost:8080/",
     "height": 677
    },
    "id": "MyRTPVQV2OqM",
    "outputId": "38395036-9cba-496c-b8f6-97c4d5b97854"
   },
   "outputs": [],
   "source": [
    "plt.figure(figsize=(16,10))\n",
    "ax = sns.countplot(defaulter.age, order=most_common_age.index[0:15] , palette=\"Paired\")\n",
    "plt.title(\"Top 15 ages with most number of defauters\")\n",
    "plt.xlabel(\"Age\")\n",
    "plt.ylabel(\"Total Count\")\n",
    "for p in ax.patches:\n",
    "    ax.text(p.get_x() + p.get_width()/2. , p.get_height(), \"%d\" % int(p.get_height()), \n",
    "            fontsize = 12, color = \"black\", ha = \"center\", va = \"bottom\")\n",
    "\n",
    "\n",
    "plt.show()"
   ]
  },
  {
   "cell_type": "code",
   "execution_count": null,
   "metadata": {
    "colab": {
     "base_uri": "https://localhost:8080/",
     "height": 399
    },
    "id": "F788Vgia2Ot8",
    "outputId": "2ac9e824-4a34-4069-e13f-063509ea03d2"
   },
   "outputs": [],
   "source": [
    "#city with most number of defaulters \n",
    "most_common_city = defaulter[\"city\"].value_counts().to_frame()\n",
    "most_common_city\n"
   ]
  },
  {
   "cell_type": "code",
   "execution_count": null,
   "metadata": {
    "colab": {
     "base_uri": "https://localhost:8080/",
     "height": 677
    },
    "id": "aQQr0RfYSJx3",
    "outputId": "893312c0-39f5-4517-de2d-7af674354f12"
   },
   "outputs": [],
   "source": [
    "plt.figure(figsize=(16,10))\n",
    "ax = sns.countplot(defaulter.city, order=most_common_city.index[0:15] , palette=\"Paired\")\n",
    "plt.title(\"Top 15 Cities  with most number of defauters\")\n",
    "plt.xlabel(\"City\")\n",
    "plt.ylabel(\"Total Count\")\n",
    "for p in ax.patches:\n",
    "    ax.text(p.get_x() + p.get_width()/2. , p.get_height(), \"%d\" % int(p.get_height()), \n",
    "            fontsize = 12, color = \"black\", ha = \"center\", va = \"bottom\")\n",
    "\n",
    "\n",
    "plt.show()"
   ]
  },
  {
   "cell_type": "code",
   "execution_count": null,
   "metadata": {
    "colab": {
     "base_uri": "https://localhost:8080/",
     "height": 898
    },
    "id": "i5G9saDzSJ0G",
    "outputId": "d8875a55-2d88-4b72-99d9-ea160b5e208e"
   },
   "outputs": [],
   "source": [
    "#like wise, lets check the same for States\n",
    "most_common_state = defaulter[\"state\"].value_counts().to_frame()\n",
    "most_common_state"
   ]
  },
  {
   "cell_type": "code",
   "execution_count": null,
   "metadata": {
    "colab": {
     "base_uri": "https://localhost:8080/",
     "height": 678
    },
    "id": "-Q7RPutoSJ2P",
    "outputId": "8e330110-6b43-4c34-c334-334bf8f96f2b"
   },
   "outputs": [],
   "source": [
    "plt.figure(figsize=(16,10))\n",
    "ax = sns.countplot(defaulter.state, order=most_common_state.index[0:15] , palette=\"Paired\")\n",
    "plt.title(\"Top 15 Cities  with most number of defauters\")\n",
    "plt.xlabel(\"City\")\n",
    "plt.ylabel(\"Total Count\")\n",
    "for p in ax.patches:\n",
    "    ax.text(p.get_x() + p.get_width()/2. , p.get_height(), \"%d\" % int(p.get_height()), \n",
    "            fontsize = 12, color = \"black\", ha = \"center\", va = \"bottom\")\n",
    "\n",
    "\n",
    "plt.show()"
   ]
  },
  {
   "cell_type": "code",
   "execution_count": null,
   "metadata": {
    "id": "jWS8LcN_SJ5M"
   },
   "outputs": [],
   "source": []
  },
  {
   "cell_type": "code",
   "execution_count": null,
   "metadata": {
    "id": "RuBLXOWWSJ6i"
   },
   "outputs": [],
   "source": []
  },
  {
   "cell_type": "code",
   "execution_count": null,
   "metadata": {
    "id": "CTEAj1F_SJ82"
   },
   "outputs": [],
   "source": []
  },
  {
   "cell_type": "code",
   "execution_count": null,
   "metadata": {
    "id": "_JLWluYgSJ_3"
   },
   "outputs": [],
   "source": []
  },
  {
   "cell_type": "code",
   "execution_count": null,
   "metadata": {
    "id": "_nSm8J7DSKCO"
   },
   "outputs": [],
   "source": []
  },
  {
   "cell_type": "code",
   "execution_count": null,
   "metadata": {
    "id": "gYsf_1bL2OxW"
   },
   "outputs": [],
   "source": []
  },
  {
   "cell_type": "markdown",
   "metadata": {
    "id": "T8t9oNzw2ggW"
   },
   "source": [
    "# handling the data\n"
   ]
  },
  {
   "cell_type": "code",
   "execution_count": null,
   "metadata": {
    "id": "a_eHE24H2hen"
   },
   "outputs": [],
   "source": []
  },
  {
   "cell_type": "code",
   "execution_count": null,
   "metadata": {
    "id": "c4f6IcMC2plI"
   },
   "outputs": [],
   "source": [
    "train_data = pd.read_csv(\"/content/drive/MyDrive/univai/Training Data.csv\")\n",
    "test_data = pd.read_csv(\"/content/drive/MyDrive/univai/Test Data.csv\")"
   ]
  },
  {
   "cell_type": "code",
   "execution_count": null,
   "metadata": {
    "id": "afYPmdTG3Lmv"
   },
   "outputs": [],
   "source": [
    "# getting dummy variabels\n",
    "train_data = pd.get_dummies(data=train_data, columns=[\"married\", \t\"house_ownership\" ,\t\"car_ownership\" ,\t\"profession\" ,\t\"city\" ,\t\"state\"])\n",
    "test_data = pd.get_dummies(data=test_data, columns=[\"married\", \t\"house_ownership\" ,\t\"car_ownership\" ,\t\"profession\" ,\t\"city\" ,\t\"state\"])"
   ]
  },
  {
   "cell_type": "code",
   "execution_count": null,
   "metadata": {
    "id": "Ftbpdb5T3XER"
   },
   "outputs": [],
   "source": [
    "# Using Min max scaler for test data\n",
    "cols_to_scale = [\"income\" ,\t\"age\" \t,\"experience\",\"current_job_years\", \t\"current_house_years\" ]\n",
    "\n",
    "from sklearn.preprocessing import MinMaxScaler\n",
    "scaler = MinMaxScaler()\n",
    "train_data[cols_to_scale] = scaler.fit_transform(train_data[cols_to_scale])\n",
    "test_data[cols_to_scale] = scaler.fit_transform(test_data[cols_to_scale])"
   ]
  },
  {
   "cell_type": "code",
   "execution_count": null,
   "metadata": {
    "id": "eNmhGRYz3ZNM"
   },
   "outputs": [],
   "source": [
    "xtrain= train_data.drop(['risk_flag', \"Id\" ],axis='columns')\n",
    "ytrain = testLabels = train_data.risk_flag\n",
    "\n",
    "xtest = test_data.drop([ \"id\" ],axis='columns')\n"
   ]
  },
  {
   "cell_type": "markdown",
   "metadata": {
    "id": "haoff5ZFF7es"
   },
   "source": [
    "### I have done some hyperparameter tuning in other notbook, in this i have just implemented it "
   ]
  },
  {
   "cell_type": "code",
   "execution_count": null,
   "metadata": {
    "id": "f20Jexak3jLL"
   },
   "outputs": [],
   "source": [
    "from sklearn.ensemble import RandomForestClassifier"
   ]
  },
  {
   "cell_type": "code",
   "execution_count": null,
   "metadata": {
    "colab": {
     "base_uri": "https://localhost:8080/"
    },
    "id": "1Igd3onf364N",
    "outputId": "3bafe6f6-a3ae-4a15-b6ca-722e86a68e53"
   },
   "outputs": [],
   "source": [
    "rf=RandomForestClassifier(n_estimators=1600,max_depth=110)\n",
    "rf.fit(xtrain,ytrain)"
   ]
  },
  {
   "cell_type": "code",
   "execution_count": null,
   "metadata": {
    "id": "Gzt85H9v4IEV"
   },
   "outputs": [],
   "source": [
    "y_pred=rf.predict(xtest)"
   ]
  },
  {
   "cell_type": "code",
   "execution_count": null,
   "metadata": {
    "id": "GLiesZwg4PDp"
   },
   "outputs": [],
   "source": [
    "prediction = pd.DataFrame( y_pred,columns=[\"risk_flag\"]).to_csv('prediction.csv', index = True)"
   ]
  },
  {
   "cell_type": "code",
   "execution_count": null,
   "metadata": {
    "id": "ZQD4ge-CFn9m"
   },
   "outputs": [],
   "source": []
  },
  {
   "cell_type": "markdown",
   "metadata": {
    "id": "DAfSfwL5HLuE"
   },
   "source": [
    "## I have learned a lot during this hacathon, Thank you "
   ]
  },
  {
   "cell_type": "code",
   "execution_count": null,
   "metadata": {
    "id": "lz5F_kPuHRvv"
   },
   "outputs": [],
   "source": []
  }
 ],
 "metadata": {
  "accelerator": "GPU",
  "colab": {
   "collapsed_sections": [],
   "name": "CREDIT RISK PREDICTION.ipynb",
   "provenance": [],
   "toc_visible": true
  },
  "kernelspec": {
   "display_name": "Python 3",
   "language": "python",
   "name": "python3"
  },
  "language_info": {
   "codemirror_mode": {
    "name": "ipython",
    "version": 3
   },
   "file_extension": ".py",
   "mimetype": "text/x-python",
   "name": "python",
   "nbconvert_exporter": "python",
   "pygments_lexer": "ipython3",
   "version": "3.8.5"
  }
 },
 "nbformat": 4,
 "nbformat_minor": 1
}
